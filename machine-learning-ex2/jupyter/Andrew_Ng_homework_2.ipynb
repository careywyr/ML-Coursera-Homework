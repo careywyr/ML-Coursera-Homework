{
 "cells": [
  {
   "cell_type": "markdown",
   "metadata": {},
   "source": [
    "# 斯坦福吴恩达机器学习第二周作业"
   ]
  },
  {
   "cell_type": "markdown",
   "metadata": {},
   "source": [
    "先导包，加载文件"
   ]
  },
  {
   "cell_type": "code",
   "execution_count": 7,
   "metadata": {},
   "outputs": [],
   "source": [
    "%matplotlib inline\n",
    "import pandas as pd\n",
    "import matplotlib.pyplot as plt\n",
    "import numpy as np\n",
    "import scipy.optimize as op\n",
    "\n",
    "data1_file_path = './ex2data1.txt'\n",
    "data = pd.read_csv(data1_file_path, names=['exam1', 'exam2', 'admitted'])"
   ]
  },
  {
   "cell_type": "markdown",
   "metadata": {},
   "source": [
    "##  Part 1: Plotting "
   ]
  },
  {
   "cell_type": "code",
   "execution_count": 8,
   "metadata": {},
   "outputs": [
    {
     "name": "stdout",
     "output_type": "stream",
     "text": [
      "['Plotting data with + indicating (y = 1) examples and o indicating (y = 0) examples.\\n']\n"
     ]
    },
    {
     "data": {
      "image/png": "[encoded data removed]",
      "text/plain": [
       "<Figure size 432x288 with 1 Axes>"
      ]
     },
     "metadata": {
      "needs_background": "light"
     },
     "output_type": "display_data"
    }
   ],
   "source": [
    "print(['Plotting data with + indicating (y = 1) examples and o indicating (y = 0) examples.\\n'])\n",
    "positive = data['admitted'].isin([1])\n",
    "negative = data['admitted'].isin([0])\n",
    "data1 = data[positive]\n",
    "data2 = data[negative]\n",
    "plt.scatter(data1['exam1'],data1['exam2'],marker='+',c='black',label='admitted',s=50)\n",
    "plt.scatter(data2['exam1'],data2['exam2'],marker='o',c='yellow',label='not admitted',s=50)\n",
    "plt.xlabel('exam1')\n",
    "plt.ylabel('exam2')\n",
    "plt.legend()\n",
    "plt.show()"
   ]
  },
  {
   "cell_type": "markdown",
   "metadata": {},
   "source": [
    "## Part 2: Compute Cost and Gradient"
   ]
  },
  {
   "cell_type": "code",
   "execution_count": 39,
   "metadata": {},
   "outputs": [],
   "source": [
    "X = data.iloc[:,0:2]\n",
    "[m,n] = X.shape\n",
    "X.insert(0, 'one', np.ones((m,1)))\n",
    "X = X.values\n",
    "y = data.iloc[:, 2:3].values\n",
    "initial_theta = np.zeros((n + 1, 1))"
   ]
  },
  {
   "cell_type": "markdown",
   "metadata": {},
   "source": [
    "$h = \\frac{1}{1+e^{-z}}$"
   ]
  },
  {
   "cell_type": "code",
   "execution_count": 69,
   "metadata": {},
   "outputs": [],
   "source": [
    "def sigmoid(z):\n",
    "    sigmoid = 1/ (1 + np.exp(-z))\n",
    "    return sigmoid"
   ]
  },
  {
   "cell_type": "markdown",
   "metadata": {},
   "source": [
    "代价函数和梯度的公式："
   ]
  },
  {
   "cell_type": "markdown",
   "metadata": {},
   "source": [
    "$J(\\theta) = \\frac{1}{m} * (-y^T log(h) - (1-y)^T log(1-h))$"
   ]
  },
  {
   "cell_type": "markdown",
   "metadata": {},
   "source": [
    "$gradient = \\frac{1}{m} X^T(h-y)$"
   ]
  },
  {
   "cell_type": "code",
   "execution_count": 76,
   "metadata": {},
   "outputs": [],
   "source": [
    "def cost_function(theta, X, y):\n",
    "    m = len(y)\n",
    "    J = (-y.T.dot(np.log(sigmoid(X.dot(theta))))\n",
    "         - (np.ones((m,1)) - y).T.dot(np.log(np.ones((m,1)) - sigmoid(X.dot(theta)))))/m\n",
    "    return J\n",
    "\n",
    "def gradient(theta, X, y):\n",
    "    grad = X.T.dot(sigmoid(X.dot(theta)) - y) / m\n",
    "    return grad"
   ]
  },
  {
   "cell_type": "code",
   "execution_count": 77,
   "metadata": {},
   "outputs": [
    {
     "name": "stdout",
     "output_type": "stream",
     "text": [
      "Cost at initial theta (zeros): [[0.69314718]] \n",
      "\n",
      "Expected cost (approx): 0.693\n",
      "\n",
      "Gradient at initial theta (zeros): \n",
      "\n",
      " [[ -0.1       ]\n",
      " [-12.00921659]\n",
      " [-11.26284221]] \n",
      "\n",
      "Expected gradients (approx):\n",
      " -0.1000\n",
      " -12.0092\n",
      " -11.2628\n",
      "\n"
     ]
    }
   ],
   "source": [
    "cost = cost_function(initial_theta, X, y)\n",
    "grad = gradient(initial_theta, X, y)\n",
    "print('Cost at initial theta (zeros): %s \\n' % cost)\n",
    "print('Expected cost (approx): 0.693\\n')\n",
    "print('Gradient at initial theta (zeros): \\n')\n",
    "print(' %s \\n' % grad)\n",
    "print('Expected gradients (approx):\\n -0.1000\\n -12.0092\\n -11.2628\\n')"
   ]
  },
  {
   "cell_type": "code",
   "execution_count": 78,
   "metadata": {},
   "outputs": [
    {
     "name": "stdout",
     "output_type": "stream",
     "text": [
      "\n",
      "Cost at test theta: [[0.21833019]]\n",
      "\n",
      "Expected cost (approx): 0.218\n",
      "\n",
      "Gradient at test theta: \n",
      "\n",
      " [[0.04290299]\n",
      " [2.56623412]\n",
      " [2.64679737]] \n",
      "\n",
      "Expected gradients (approx):\n",
      " 0.043\n",
      " 2.566\n",
      " 2.647\n",
      "\n"
     ]
    }
   ],
   "source": [
    "test_theta = np.array(([-24], [0.2], [0.2]))\n",
    "cost = cost_function(test_theta, X, y)\n",
    "grad = gradient(test_theta, X, y)\n",
    "print('\\nCost at test theta: %s\\n' % cost)\n",
    "print('Expected cost (approx): 0.218\\n')\n",
    "print('Gradient at test theta: \\n')\n",
    "print(' %s \\n' % grad)\n",
    "print('Expected gradients (approx):\\n 0.043\\n 2.566\\n 2.647\\n')"
   ]
  },
  {
   "cell_type": "markdown",
   "metadata": {},
   "source": [
    "## Part 3: Optimizing using fminunc"
   ]
  },
  {
   "cell_type": "code",
   "execution_count": 83,
   "metadata": {},
   "outputs": [],
   "source": [
    "# theta = initial_theta\n",
    "# result = op.minimize(fun=cost_function, x0=initial_theta, args=(X, y), method='TNC', jac = gradient)\n",
    "# print('Cost at theta found by fminunc: %s\\n' % cost);\n",
    "# print('Expected cost (approx): 0.203\\n');\n",
    "# print('theta: \\n');\n",
    "# print(' %s \\n'% theta);\n",
    "# print('Expected theta (approx):\\n')\n",
    "# print(' -25.161\\n 0.206\\n 0.201\\n')"
   ]
  },
  {
   "cell_type": "markdown",
   "metadata": {},
   "source": [
    "## Part 4: Predict and Accuracies"
   ]
  },
  {
   "cell_type": "code",
   "execution_count": 84,
   "metadata": {},
   "outputs": [],
   "source": [
    "def predict(theta,X):\n",
    "    pre = X.dot(theta) >=0\n",
    "    return pre+0"
   ]
  },
  {
   "cell_type": "code",
   "execution_count": 87,
   "metadata": {},
   "outputs": [
    {
     "name": "stdout",
     "output_type": "stream",
     "text": [
      "For a student with scores 45 and 85, we predict an admission probability of [[0.77432714]] \n",
      "\n",
      "Expected value: 0.775 +/- 0.002\n",
      "\n",
      "\n",
      "Train Accuracy: 89.0 \n",
      "\n",
      "Expected accuracy (approx): 89.0\n",
      "\n",
      "\n",
      "\n"
     ]
    }
   ],
   "source": [
    "# 上面计算theta的地方不正确，先写死正确答案 TODO\n",
    "theta = np.array([(-24.933067),(0.204408),(0.199619)]).reshape((3,1))\n",
    "X_prob = np.array([1,45,85]).reshape((1,3))\n",
    "prob = sigmoid(X_prob.dot(theta))\n",
    "print('For a student with scores 45 and 85, we predict an admission probability of %s \\n' % prob)\n",
    "print('Expected value: 0.775 +/- 0.002\\n\\n')\n",
    "\n",
    "# Compute accuracy on our training set\n",
    "p = predict(theta, X)\n",
    "\n",
    "print('Train Accuracy: %s \\n' % (np.mean((p == y) + 0) * 100))\n",
    "print('Expected accuracy (approx): 89.0\\n')\n",
    "print('\\n')"
   ]
  }
 ],
 "metadata": {
  "kernelspec": {
   "display_name": "Python 3",
   "language": "python",
   "name": "python3"
  },
  "language_info": {
   "codemirror_mode": {
    "name": "ipython",
    "version": 3
   },
   "file_extension": ".py",
   "mimetype": "text/x-python",
   "name": "python",
   "nbconvert_exporter": "python",
   "pygments_lexer": "ipython3",
   "version": "3.7.0"
  }
 },
 "nbformat": 4,
 "nbformat_minor": 2
}
